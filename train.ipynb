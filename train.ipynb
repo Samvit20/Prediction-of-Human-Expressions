{
  "nbformat": 4,
  "nbformat_minor": 0,
  "metadata": {
    "colab": {
      "name": "train.ipynb",
      "provenance": [],
      "collapsed_sections": []
    },
    "kernelspec": {
      "name": "python3",
      "display_name": "Python 3"
    }
  },
  "cells": [
    {
      "cell_type": "code",
      "metadata": {
        "id": "_F52ZGmCmItC",
        "colab": {
          "base_uri": "https://localhost:8080/"
        },
        "outputId": "f34ac5e1-5021-45d0-ee61-553389c115c3"
      },
      "source": [
        "from google.colab import drive\n",
        "drive.mount('/content/drive')"
      ],
      "execution_count": 13,
      "outputs": [
        {
          "output_type": "stream",
          "text": [
            "Drive already mounted at /content/drive; to attempt to forcibly remount, call drive.mount(\"/content/drive\", force_remount=True).\n"
          ],
          "name": "stdout"
        }
      ]
    },
    {
      "cell_type": "code",
      "metadata": {
        "id": "tZZUaMmwnTR1"
      },
      "source": [
        "import tensorflow as tf\n",
        "\n",
        "import keras\n",
        "from keras.models import Sequential\n",
        "from keras.layers import Conv2D, MaxPooling2D, AveragePooling2D\n",
        "from keras.layers import Dense, Activation, Dropout, Flatten\n",
        "\n",
        "from keras.preprocessing import image\n",
        "from keras.preprocessing.image import ImageDataGenerator\n",
        "\n",
        "import numpy as np\n",
        "import matplotlib.pyplot as plt"
      ],
      "execution_count": 14,
      "outputs": []
    },
    {
      "cell_type": "code",
      "metadata": {
        "id": "szKCPC_RnXyq"
      },
      "source": [
        "num_classes = 7 #angry, disgust, fear, happy, sad, surprise, neutral\n",
        "batch_size = 128\n",
        "epochs = 50\n"
      ],
      "execution_count": null,
      "outputs": []
    },
    {
      "cell_type": "code",
      "metadata": {
        "id": "hu_hJpSGnbNJ",
        "colab": {
          "base_uri": "https://localhost:8080/"
        },
        "outputId": "978d95d7-25d0-4388-8e63-a6b631b74a08"
      },
      "source": [
        "with open(\"./drive/My Drive/fer2013.csv\") as f:\n",
        " content = f.readlines()\n",
        "\n",
        "lines = np.array(content)\n",
        "\n",
        "num_of_instances = lines.size\n",
        "print(\"number of instances: \",num_of_instances)\n",
        "print(\"instance length: \",len(lines[1].split(\",\")[1].split(\" \")))"
      ],
      "execution_count": null,
      "outputs": [
        {
          "output_type": "stream",
          "text": [
            "number of instances:  35888\n",
            "instance length:  2304\n"
          ],
          "name": "stdout"
        }
      ]
    },
    {
      "cell_type": "code",
      "metadata": {
        "id": "u7LP1KL_pmhl"
      },
      "source": [
        "x_train, y_train, x_test, y_test = [], [], [], []\n",
        "\n",
        "for i in range(1,num_of_instances):\n",
        "  try:\n",
        "    emotion, img, usage = lines[i].split(\",\")\n",
        "    val = img.split(\" \")\n",
        "    pixels = np.array(val, 'float32')\n",
        "    emotion = keras.utils.to_categorical(emotion, num_classes)\n",
        "    if 'Training' in usage:\n",
        "      y_train.append(emotion)\n",
        "      x_train.append(pixels)\n",
        "    elif 'PublicTest' in usage:\n",
        "      y_test.append(emotion)\n",
        "      x_test.append(pixels)\n",
        "  except:\n",
        "    print(\"\", end=\"\")"
      ],
      "execution_count": 15,
      "outputs": []
    },
    {
      "cell_type": "code",
      "metadata": {
        "id": "Sy07X45GsFsC",
        "colab": {
          "base_uri": "https://localhost:8080/"
        },
        "outputId": "3afe255b-4411-490d-ebc7-f545b1d34189"
      },
      "source": [
        "x_train = np.array(x_train, 'float32')\n",
        "y_train = np.array(y_train, 'float32')\n",
        "x_test = np.array(x_test, 'float32')\n",
        "y_test = np.array(y_test, 'float32')\n",
        "\n",
        "x_train /= 255 #normalize inputs between [0, 1]\n",
        "x_test /= 255\n",
        "\n",
        "x_train = x_train.reshape(x_train.shape[0], 48, 48, 1)\n",
        "x_train = x_train.astype('float32')\n",
        "x_test = x_test.reshape(x_test.shape[0], 48, 48, 1)\n",
        "x_test = x_test.astype('float32')\n",
        "\n",
        "print(x_train.shape[0], 'train samples')\n",
        "print(x_test.shape[0], 'test samples')\n"
      ],
      "execution_count": 16,
      "outputs": [
        {
          "output_type": "stream",
          "text": [
            "28709 train samples\n",
            "3589 test samples\n"
          ],
          "name": "stdout"
        }
      ]
    },
    {
      "cell_type": "code",
      "metadata": {
        "id": "wvoziN_0swSl"
      },
      "source": [
        "#construct CNN structure\n",
        "model = Sequential()\n",
        "\n",
        "#1st convolution layer\n",
        "model.add(Conv2D(64, (5, 5), activation='relu', input_shape=(48,48,1)))\n",
        "model.add(MaxPooling2D(pool_size=(5,5), strides=(2, 2)))\n",
        "\n",
        "#2nd convolution layer\n",
        "model.add(Conv2D(64, (3, 3), activation='relu'))\n",
        "model.add(Conv2D(64, (3, 3), activation='relu'))\n",
        "model.add(AveragePooling2D(pool_size=(3,3), strides=(2, 2)))\n",
        "\n",
        "#3rd convolution layer\n",
        "model.add(Conv2D(128, (3, 3), activation='relu'))\n",
        "model.add(Conv2D(128, (3, 3), activation='relu'))\n",
        "model.add(AveragePooling2D(pool_size=(3,3), strides=(2, 2)))\n",
        "\n",
        "model.add(Flatten())\n",
        "\n",
        "#fully connected neural networks\n",
        "model.add(Dense(1024, activation='relu'))\n",
        "model.add(Dropout(0.2))\n",
        "model.add(Dense(1024, activation='relu'))\n",
        "model.add(Dropout(0.2))\n",
        "\n",
        "model.add(Dense(num_classes, activation='softmax'))\n",
        "#------------------------------\n",
        "#batch process\n",
        "gen = ImageDataGenerator()\n",
        "train_generator = gen.flow(x_train, y_train, batch_size=batch_size)"
      ],
      "execution_count": 17,
      "outputs": []
    },
    {
      "cell_type": "code",
      "metadata": {
        "id": "STKMSFIQs4WZ",
        "colab": {
          "base_uri": "https://localhost:8080/"
        },
        "outputId": "46a3b098-cf7c-4e19-e12a-bb6b459bec10"
      },
      "source": [
        "model.compile(loss='categorical_crossentropy', optimizer=keras.optimizers.Adam(), metrics=['accuracy'])\n",
        "fit = True\n",
        "\n",
        "if fit == True:\n",
        "  model.fit_generator(train_generator, steps_per_epoch=batch_size, epochs=epochs) \n",
        "else:\n",
        "  model.load_weights('/data/facial_expression_model_weights.h5') #load weights"
      ],
      "execution_count": 18,
      "outputs": [
        {
          "output_type": "stream",
          "text": [
            "/usr/local/lib/python3.7/dist-packages/tensorflow/python/keras/engine/training.py:1844: UserWarning: `Model.fit_generator` is deprecated and will be removed in a future version. Please use `Model.fit`, which supports generators.\n",
            "  warnings.warn('`Model.fit_generator` is deprecated and '\n"
          ],
          "name": "stderr"
        },
        {
          "output_type": "stream",
          "text": [
            "Epoch 1/50\n",
            "128/128 [==============================] - 99s 770ms/step - loss: 1.8320 - accuracy: 0.2432\n",
            "Epoch 2/50\n",
            "128/128 [==============================] - 96s 747ms/step - loss: 1.7943 - accuracy: 0.2568\n",
            "Epoch 3/50\n",
            "128/128 [==============================] - 96s 752ms/step - loss: 1.6971 - accuracy: 0.3106\n",
            "Epoch 4/50\n",
            "128/128 [==============================] - 97s 757ms/step - loss: 1.6142 - accuracy: 0.3614\n",
            "Epoch 5/50\n",
            "128/128 [==============================] - 98s 763ms/step - loss: 1.5524 - accuracy: 0.3894\n",
            "Epoch 6/50\n",
            "128/128 [==============================] - 96s 753ms/step - loss: 1.4774 - accuracy: 0.4293\n",
            "Epoch 7/50\n",
            "128/128 [==============================] - 96s 754ms/step - loss: 1.4342 - accuracy: 0.4406\n",
            "Epoch 8/50\n",
            "128/128 [==============================] - 97s 759ms/step - loss: 1.4143 - accuracy: 0.4563\n",
            "Epoch 9/50\n",
            "128/128 [==============================] - 97s 758ms/step - loss: 1.3543 - accuracy: 0.4816\n",
            "Epoch 10/50\n",
            "128/128 [==============================] - 96s 752ms/step - loss: 1.3306 - accuracy: 0.4855\n",
            "Epoch 11/50\n",
            "128/128 [==============================] - 96s 754ms/step - loss: 1.2832 - accuracy: 0.5007\n",
            "Epoch 12/50\n",
            "128/128 [==============================] - 98s 763ms/step - loss: 1.2803 - accuracy: 0.5119\n",
            "Epoch 13/50\n",
            "128/128 [==============================] - 97s 758ms/step - loss: 1.2424 - accuracy: 0.5232\n",
            "Epoch 14/50\n",
            "128/128 [==============================] - 97s 755ms/step - loss: 1.2172 - accuracy: 0.5372\n",
            "Epoch 15/50\n",
            "128/128 [==============================] - 97s 754ms/step - loss: 1.2058 - accuracy: 0.5420\n",
            "Epoch 16/50\n",
            "128/128 [==============================] - 97s 755ms/step - loss: 1.1681 - accuracy: 0.5558\n",
            "Epoch 17/50\n",
            "128/128 [==============================] - 97s 760ms/step - loss: 1.1716 - accuracy: 0.5519\n",
            "Epoch 18/50\n",
            "128/128 [==============================] - 97s 755ms/step - loss: 1.1292 - accuracy: 0.5751\n",
            "Epoch 19/50\n",
            "128/128 [==============================] - 96s 751ms/step - loss: 1.1081 - accuracy: 0.5787\n",
            "Epoch 20/50\n",
            "128/128 [==============================] - 97s 755ms/step - loss: 1.0837 - accuracy: 0.5868\n",
            "Epoch 21/50\n",
            "128/128 [==============================] - 97s 755ms/step - loss: 1.0768 - accuracy: 0.5920\n",
            "Epoch 22/50\n",
            "128/128 [==============================] - 97s 755ms/step - loss: 1.0527 - accuracy: 0.6005\n",
            "Epoch 23/50\n",
            "128/128 [==============================] - 96s 750ms/step - loss: 1.0539 - accuracy: 0.5961\n",
            "Epoch 24/50\n",
            "128/128 [==============================] - 97s 755ms/step - loss: 1.0397 - accuracy: 0.6074\n",
            "Epoch 25/50\n",
            "128/128 [==============================] - 96s 752ms/step - loss: 1.0232 - accuracy: 0.6135\n",
            "Epoch 26/50\n",
            "128/128 [==============================] - 96s 751ms/step - loss: 0.9986 - accuracy: 0.6299\n",
            "Epoch 27/50\n",
            "128/128 [==============================] - 96s 753ms/step - loss: 0.9718 - accuracy: 0.6376\n",
            "Epoch 28/50\n",
            "128/128 [==============================] - 97s 757ms/step - loss: 0.9656 - accuracy: 0.6323\n",
            "Epoch 29/50\n",
            "128/128 [==============================] - 96s 753ms/step - loss: 0.9133 - accuracy: 0.6633\n",
            "Epoch 30/50\n",
            "128/128 [==============================] - 96s 750ms/step - loss: 0.9222 - accuracy: 0.6564\n",
            "Epoch 31/50\n",
            "128/128 [==============================] - 96s 751ms/step - loss: 0.8937 - accuracy: 0.6647\n",
            "Epoch 32/50\n",
            "128/128 [==============================] - 96s 752ms/step - loss: 0.8873 - accuracy: 0.6657\n",
            "Epoch 33/50\n",
            "128/128 [==============================] - 96s 749ms/step - loss: 0.8476 - accuracy: 0.6847\n",
            "Epoch 34/50\n",
            "128/128 [==============================] - 96s 751ms/step - loss: 0.8432 - accuracy: 0.6881\n",
            "Epoch 35/50\n",
            "128/128 [==============================] - 96s 750ms/step - loss: 0.8088 - accuracy: 0.6940\n",
            "Epoch 36/50\n",
            "128/128 [==============================] - 97s 755ms/step - loss: 0.8098 - accuracy: 0.6995\n",
            "Epoch 37/50\n",
            "128/128 [==============================] - 96s 750ms/step - loss: 0.8114 - accuracy: 0.6947\n",
            "Epoch 38/50\n",
            "128/128 [==============================] - 96s 753ms/step - loss: 0.7490 - accuracy: 0.7208\n",
            "Epoch 39/50\n",
            "128/128 [==============================] - 96s 747ms/step - loss: 0.7618 - accuracy: 0.7150\n",
            "Epoch 40/50\n",
            "128/128 [==============================] - 96s 752ms/step - loss: 0.7410 - accuracy: 0.7226\n",
            "Epoch 41/50\n",
            "128/128 [==============================] - 96s 752ms/step - loss: 0.7137 - accuracy: 0.7296\n",
            "Epoch 42/50\n",
            "128/128 [==============================] - 96s 748ms/step - loss: 0.7090 - accuracy: 0.7382\n",
            "Epoch 43/50\n",
            "128/128 [==============================] - 96s 754ms/step - loss: 0.6628 - accuracy: 0.7552\n",
            "Epoch 44/50\n",
            "128/128 [==============================] - 96s 753ms/step - loss: 0.6553 - accuracy: 0.7636\n",
            "Epoch 45/50\n",
            "128/128 [==============================] - 96s 754ms/step - loss: 0.6213 - accuracy: 0.7656\n",
            "Epoch 46/50\n",
            "128/128 [==============================] - 96s 749ms/step - loss: 0.6317 - accuracy: 0.7663\n",
            "Epoch 47/50\n",
            "128/128 [==============================] - 96s 747ms/step - loss: 0.5920 - accuracy: 0.7790\n",
            "Epoch 48/50\n",
            "128/128 [==============================] - 96s 751ms/step - loss: 0.5855 - accuracy: 0.7837\n",
            "Epoch 49/50\n",
            "128/128 [==============================] - 97s 757ms/step - loss: 0.5661 - accuracy: 0.7908\n",
            "Epoch 50/50\n",
            "128/128 [==============================] - 96s 749ms/step - loss: 0.5642 - accuracy: 0.7907\n"
          ],
          "name": "stdout"
        }
      ]
    },
    {
      "cell_type": "code",
      "metadata": {
        "id": "ssqGMjFe4jdx"
      },
      "source": [
        "def emotion_analysis(emotions):\n",
        " objects = ('angry', 'disgust', 'fear', 'happy', 'sad', 'surprise', 'neutral')\n",
        " y_pos = np.arange(len(objects))\n",
        "\n",
        " plt.bar(y_pos, emotions, align='center', alpha=0.5)\n",
        " plt.xticks(y_pos, objects)\n",
        " plt.ylabel('percentage')\n",
        " plt.title('emotion')\n",
        "\n",
        " plt.show()"
      ],
      "execution_count": 19,
      "outputs": []
    },
    {
      "cell_type": "code",
      "metadata": {
        "id": "V5UkfUZY4r-H",
        "colab": {
          "base_uri": "https://localhost:8080/"
        },
        "outputId": "348d654d-038d-4a9e-a92f-b596a0070dd6"
      },
      "source": [
        "model_json = model.to_json()\n",
        "with open(\"model.json\", \"w\") as json_file:\n",
        " json_file.write(model_json)\n",
        "model.save_weights(\"model.h5\")\n",
        "\n",
        "#Saving the model\n",
        "model.save('model.h5')\n",
        "#Evaluation\n",
        "train_score = model.evaluate(x_train, y_train, verbose=0)\n",
        "print('Train loss:', train_score[0])\n",
        "print('Train accuracy:', 100*train_score[1])\n",
        "\n",
        "test_score = model.evaluate(x_test, y_test, verbose=0)\n",
        "print('Test loss:', test_score[0])\n",
        "print('Test accuracy:', 100*test_score[1])"
      ],
      "execution_count": 20,
      "outputs": [
        {
          "output_type": "stream",
          "text": [
            "Train loss: 0.5343151688575745\n",
            "Train accuracy: 80.69943189620972\n",
            "Test loss: 1.6009708642959595\n",
            "Test accuracy: 55.28002381324768\n"
          ],
          "name": "stdout"
        }
      ]
    },
    {
      "cell_type": "code",
      "metadata": {
        "id": "EBUy3pwj6T2f",
        "colab": {
          "base_uri": "https://localhost:8080/"
        },
        "outputId": "108e5006-d40f-4182-a510-403587771003"
      },
      "source": [
        "!ls model.h5"
      ],
      "execution_count": 21,
      "outputs": [
        {
          "output_type": "stream",
          "text": [
            "model.h5\n"
          ],
          "name": "stdout"
        }
      ]
    },
    {
      "cell_type": "code",
      "metadata": {
        "id": "2PT9uyG_62LW"
      },
      "source": [
        "!pip install -U -q PyDrive\n",
        "from pydrive.auth import GoogleAuth\n",
        "from pydrive.drive import GoogleDrive \n",
        "from google.colab import auth \n",
        "from oauth2client.client import GoogleCredentials"
      ],
      "execution_count": 22,
      "outputs": []
    },
    {
      "cell_type": "code",
      "metadata": {
        "id": "_z_uoP5-8axs"
      },
      "source": [
        "auth.authenticate_user()\n",
        "gauth = GoogleAuth()\n",
        "gauth.credentials = GoogleCredentials.get_application_default()\n",
        "drive = GoogleDrive(gauth)"
      ],
      "execution_count": 23,
      "outputs": []
    },
    {
      "cell_type": "code",
      "metadata": {
        "id": "kdtlH7Gn8i70"
      },
      "source": [
        "model.save('model.h5')\n",
        "model_file = drive.CreateFile({'title' : 'model.h5'})                       \n",
        "model_file.SetContentFile('model.h5')                       \n",
        "model_file.Upload()"
      ],
      "execution_count": 24,
      "outputs": []
    },
    {
      "cell_type": "code",
      "metadata": {
        "id": "DHhbiD998xBd",
        "colab": {
          "base_uri": "https://localhost:8080/"
        },
        "outputId": "58723d6c-d241-4eba-eabf-b3df4ef91c9a"
      },
      "source": [
        "# download to google drive                       \n",
        "drive.CreateFile({'id': model_file.get('id')})"
      ],
      "execution_count": 26,
      "outputs": [
        {
          "output_type": "execute_result",
          "data": {
            "text/plain": [
              "GoogleDriveFile({'id': '1AbcYTrT3M1ruD_0UQ2L0TLsfsiKsb_HJ'})"
            ]
          },
          "metadata": {
            "tags": []
          },
          "execution_count": 26
        }
      ]
    },
    {
      "cell_type": "code",
      "metadata": {
        "id": "FlVYs0g_EG89"
      },
      "source": [
        ""
      ],
      "execution_count": 26,
      "outputs": []
    }
  ]
}